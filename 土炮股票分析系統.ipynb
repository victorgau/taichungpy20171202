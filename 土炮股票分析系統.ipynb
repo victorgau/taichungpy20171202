{
 "cells": [
  {
   "cell_type": "markdown",
   "metadata": {},
   "source": [
    "# 土炮股票分析系統"
   ]
  },
  {
   "cell_type": "markdown",
   "metadata": {},
   "source": [
    "這個範例只是將上課所講過的所有例子串在一起，提供一個簡單的概念，讓大家知道一個簡單的分析系統大概可以怎麼做。\n",
    "\n",
    "例子裡面有很多不足的地方，請自行思考如何修改。"
   ]
  },
  {
   "cell_type": "code",
   "execution_count": 1,
   "metadata": {
    "collapsed": true
   },
   "outputs": [],
   "source": [
    "# 載入需要的模組\n",
    "import ffn\n",
    "import pandas as pd\n",
    "import pandas_datareader.data as web\n",
    "\n",
    "from datetime import datetime\n",
    "import numpy as np"
   ]
  },
  {
   "cell_type": "markdown",
   "metadata": {},
   "source": [
    "## 前面定義好的一些函式"
   ]
  },
  {
   "cell_type": "code",
   "execution_count": 2,
   "metadata": {
    "collapsed": true
   },
   "outputs": [],
   "source": [
    "# 取得公司資料\n",
    "def get_companies(ex = \"NASDAQ\"):\n",
    "    template = \"http://www.nasdaq.com/screening/companies-by-industry.aspx?exchange={}&render=download\"\n",
    "    url = template.format(ex)\n",
    "    return pd.read_csv(url)"
   ]
  },
  {
   "cell_type": "code",
   "execution_count": 3,
   "metadata": {
    "collapsed": true
   },
   "outputs": [],
   "source": [
    "# 計算波動率\n",
    "def volatility(symbol, startdate):\n",
    "    try:\n",
    "        df = web.DataReader(symbol, 'yahoo', startdate)\n",
    "        dailyRet = df['Close'].pct_change()\n",
    "        return dailyRet.std()\n",
    "    except Exception as e:\n",
    "        print(\"Symbol: \", symbol, \"==> Error: \", e.args)\n",
    "        return 10000.0"
   ]
  },
  {
   "cell_type": "code",
   "execution_count": 4,
   "metadata": {
    "collapsed": true
   },
   "outputs": [],
   "source": [
    "# 計算 MaxDD\n",
    "def DrawDownAnalysis(cumRet):\n",
    "    dd_series = ffn.core.to_drawdown_series(cumRet)\n",
    "    dd_details = ffn.core.drawdown_details(dd_series)\n",
    "    return dd_details['drawdown'].min(), dd_details['days'].max()"
   ]
  },
  {
   "cell_type": "markdown",
   "metadata": {},
   "source": [
    "## 抓取公司資料"
   ]
  },
  {
   "cell_type": "code",
   "execution_count": 5,
   "metadata": {
    "collapsed": true
   },
   "outputs": [],
   "source": [
    "data = get_companies()"
   ]
  },
  {
   "cell_type": "code",
   "execution_count": 6,
   "metadata": {},
   "outputs": [
    {
     "data": {
      "text/html": [
       "<div>\n",
       "<style>\n",
       "    .dataframe thead tr:only-child th {\n",
       "        text-align: right;\n",
       "    }\n",
       "\n",
       "    .dataframe thead th {\n",
       "        text-align: left;\n",
       "    }\n",
       "\n",
       "    .dataframe tbody tr th {\n",
       "        vertical-align: top;\n",
       "    }\n",
       "</style>\n",
       "<table border=\"1\" class=\"dataframe\">\n",
       "  <thead>\n",
       "    <tr style=\"text-align: right;\">\n",
       "      <th></th>\n",
       "      <th>Symbol</th>\n",
       "      <th>Name</th>\n",
       "      <th>LastSale</th>\n",
       "      <th>MarketCap</th>\n",
       "      <th>ADR TSO</th>\n",
       "      <th>IPOyear</th>\n",
       "      <th>Sector</th>\n",
       "      <th>Industry</th>\n",
       "      <th>Summary Quote</th>\n",
       "      <th>Unnamed: 9</th>\n",
       "    </tr>\n",
       "  </thead>\n",
       "  <tbody>\n",
       "    <tr>\n",
       "      <th>0</th>\n",
       "      <td>PIH</td>\n",
       "      <td>1347 Property Insurance Holdings, Inc.</td>\n",
       "      <td>7.35</td>\n",
       "      <td>4.398803e+07</td>\n",
       "      <td>n/a</td>\n",
       "      <td>2014</td>\n",
       "      <td>Finance</td>\n",
       "      <td>Property-Casualty Insurers</td>\n",
       "      <td>http://www.nasdaq.com/symbol/pih</td>\n",
       "      <td>NaN</td>\n",
       "    </tr>\n",
       "    <tr>\n",
       "      <th>1</th>\n",
       "      <td>TURN</td>\n",
       "      <td>180 Degree Capital Corp.</td>\n",
       "      <td>2.02</td>\n",
       "      <td>6.286556e+07</td>\n",
       "      <td>n/a</td>\n",
       "      <td>n/a</td>\n",
       "      <td>Finance</td>\n",
       "      <td>Finance/Investors Services</td>\n",
       "      <td>http://www.nasdaq.com/symbol/turn</td>\n",
       "      <td>NaN</td>\n",
       "    </tr>\n",
       "    <tr>\n",
       "      <th>2</th>\n",
       "      <td>FLWS</td>\n",
       "      <td>1-800 FLOWERS.COM, Inc.</td>\n",
       "      <td>10.25</td>\n",
       "      <td>6.624007e+08</td>\n",
       "      <td>n/a</td>\n",
       "      <td>1999</td>\n",
       "      <td>Consumer Services</td>\n",
       "      <td>Other Specialty Stores</td>\n",
       "      <td>http://www.nasdaq.com/symbol/flws</td>\n",
       "      <td>NaN</td>\n",
       "    </tr>\n",
       "    <tr>\n",
       "      <th>3</th>\n",
       "      <td>FCCY</td>\n",
       "      <td>1st Constitution Bancorp (NJ)</td>\n",
       "      <td>18.25</td>\n",
       "      <td>1.473351e+08</td>\n",
       "      <td>n/a</td>\n",
       "      <td>n/a</td>\n",
       "      <td>Finance</td>\n",
       "      <td>Savings Institutions</td>\n",
       "      <td>http://www.nasdaq.com/symbol/fccy</td>\n",
       "      <td>NaN</td>\n",
       "    </tr>\n",
       "    <tr>\n",
       "      <th>4</th>\n",
       "      <td>SRCE</td>\n",
       "      <td>1st Source Corporation</td>\n",
       "      <td>51.64</td>\n",
       "      <td>1.339342e+09</td>\n",
       "      <td>n/a</td>\n",
       "      <td>n/a</td>\n",
       "      <td>Finance</td>\n",
       "      <td>Major Banks</td>\n",
       "      <td>http://www.nasdaq.com/symbol/srce</td>\n",
       "      <td>NaN</td>\n",
       "    </tr>\n",
       "  </tbody>\n",
       "</table>\n",
       "</div>"
      ],
      "text/plain": [
       "  Symbol                                    Name LastSale     MarketCap  \\\n",
       "0    PIH  1347 Property Insurance Holdings, Inc.     7.35  4.398803e+07   \n",
       "1   TURN                180 Degree Capital Corp.     2.02  6.286556e+07   \n",
       "2   FLWS                 1-800 FLOWERS.COM, Inc.    10.25  6.624007e+08   \n",
       "3   FCCY           1st Constitution Bancorp (NJ)    18.25  1.473351e+08   \n",
       "4   SRCE                  1st Source Corporation    51.64  1.339342e+09   \n",
       "\n",
       "  ADR TSO IPOyear             Sector                    Industry  \\\n",
       "0     n/a    2014            Finance  Property-Casualty Insurers   \n",
       "1     n/a     n/a            Finance  Finance/Investors Services   \n",
       "2     n/a    1999  Consumer Services      Other Specialty Stores   \n",
       "3     n/a     n/a            Finance        Savings Institutions   \n",
       "4     n/a     n/a            Finance                 Major Banks   \n",
       "\n",
       "                       Summary Quote  Unnamed: 9  \n",
       "0   http://www.nasdaq.com/symbol/pih         NaN  \n",
       "1  http://www.nasdaq.com/symbol/turn         NaN  \n",
       "2  http://www.nasdaq.com/symbol/flws         NaN  \n",
       "3  http://www.nasdaq.com/symbol/fccy         NaN  \n",
       "4  http://www.nasdaq.com/symbol/srce         NaN  "
      ]
     },
     "execution_count": 6,
     "metadata": {},
     "output_type": "execute_result"
    }
   ],
   "source": [
    "data.head()"
   ]
  },
  {
   "cell_type": "code",
   "execution_count": 7,
   "metadata": {},
   "outputs": [
    {
     "data": {
      "text/plain": [
       "3270"
      ]
     },
     "execution_count": 7,
     "metadata": {},
     "output_type": "execute_result"
    }
   ],
   "source": [
    "# 看一下有幾筆資料\n",
    "len(data.index)"
   ]
  },
  {
   "cell_type": "code",
   "execution_count": 8,
   "metadata": {},
   "outputs": [
    {
     "data": {
      "text/plain": [
       "(3270, 10)"
      ]
     },
     "execution_count": 8,
     "metadata": {},
     "output_type": "execute_result"
    }
   ],
   "source": [
    "# 也可以這樣看\n",
    "data.shape"
   ]
  },
  {
   "cell_type": "code",
   "execution_count": 9,
   "metadata": {
    "collapsed": true
   },
   "outputs": [],
   "source": [
    "# 作為範例取出前十筆來做就好了，因為太多筆沒辦法在課堂上示範...\n",
    "# 另外連續頻繁抓資料，會被 Yahoo Finance 視為攻擊，之後會抓不到資料。\n",
    "companylist = data['Symbol'][0:10].tolist()"
   ]
  },
  {
   "cell_type": "markdown",
   "metadata": {},
   "source": [
    "## 波動率選股"
   ]
  },
  {
   "cell_type": "markdown",
   "metadata": {},
   "source": [
    "我們通常只抓一次股市資料，然後存到資料庫裏面去，之後就從自己的資料庫裏面撈數據出來分析。\n",
    "\n",
    "這個地方因為為了搭配先前講過的例子，所以只是把例子裡面的做法放到 Function 裡面來。\n",
    "\n",
    "須注意這樣的作法只是上課 Demo 用。"
   ]
  },
  {
   "cell_type": "code",
   "execution_count": 10,
   "metadata": {},
   "outputs": [
    {
     "name": "stdout",
     "output_type": "stream",
     "text": [
      "Symbol:  VNET ==> Error:  ('Unable to read URL: https://query1.finance.yahoo.com/v7/finance/download/VNET?period1=1451577600&period2=1512230399&interval=1d&events=history&crumb=GI%5Cu002FXjWqgbL9',)\n",
      "Symbol:  EGHT ==> Error:  ('Unable to read URL: https://query1.finance.yahoo.com/v7/finance/download/EGHT?period1=1451577600&period2=1512230399&interval=1d&events=history&crumb=%5Cu002FM13lubPNuo',)\n"
     ]
    },
    {
     "data": {
      "text/plain": [
       "[(0.014320224444026822, 'SRCE'),\n",
       " (0.016155762484458602, 'FCCY'),\n",
       " (0.017658247825673733, 'CAFD'),\n",
       " (0.018123379281956464, 'JOBS'),\n",
       " (0.021464920969773663, 'PIH'),\n",
       " (0.022796214867284018, 'TWOU'),\n",
       " (0.023158994218157095, 'TURN'),\n",
       " (0.023621409952326564, 'FLWS'),\n",
       " (10000.0, 'EGHT'),\n",
       " (10000.0, 'VNET')]"
      ]
     },
     "execution_count": 10,
     "metadata": {},
     "output_type": "execute_result"
    }
   ],
   "source": [
    "results = []\n",
    "\n",
    "for symbol in companylist:\n",
    "    vo = volatility(symbol, datetime(2016, 1, 1))\n",
    "    results.append((vo, symbol))\n",
    "    \n",
    "results.sort()\n",
    "\n",
    "results"
   ]
  },
  {
   "cell_type": "code",
   "execution_count": 11,
   "metadata": {},
   "outputs": [
    {
     "data": {
      "text/plain": [
       "['SRCE', 'FCCY', 'CAFD', 'JOBS', 'PIH']"
      ]
     },
     "execution_count": 11,
     "metadata": {},
     "output_type": "execute_result"
    }
   ],
   "source": [
    "# 選出波動率最小的前五檔股票\n",
    "computer_selected = np.array(results)[:, 1][:5].tolist()\n",
    "computer_selected"
   ]
  },
  {
   "cell_type": "markdown",
   "metadata": {},
   "source": [
    "# 加入自選股"
   ]
  },
  {
   "cell_type": "code",
   "execution_count": 12,
   "metadata": {
    "collapsed": true
   },
   "outputs": [],
   "source": [
    "# 上面是電腦幫忙選股...\n",
    "# 底下是自己因為看新聞、聽小道消息等等的靈機一閃後，想看看看回測狀況好不好的股票\n",
    "# 它只是一個簡單的 list 會被一起放進去回測看看\n",
    "self_selected = ['TSLA', 'GOOG', 'YHOO', 'MSFT', 'AAPL']"
   ]
  },
  {
   "cell_type": "code",
   "execution_count": 13,
   "metadata": {
    "collapsed": true
   },
   "outputs": [],
   "source": [
    "candidates = computer_selected + self_selected"
   ]
  },
  {
   "cell_type": "code",
   "execution_count": 14,
   "metadata": {
    "collapsed": true
   },
   "outputs": [],
   "source": [
    "# 放到 set 中的重複性資料只會被保留一份\n",
    "candidates = set(candidates)"
   ]
  },
  {
   "cell_type": "code",
   "execution_count": 15,
   "metadata": {
    "collapsed": true
   },
   "outputs": [],
   "source": [
    "# 這是刪掉重複資料後的候選名單\n",
    "candidates = list(candidates)"
   ]
  },
  {
   "cell_type": "markdown",
   "metadata": {},
   "source": [
    "# 回測"
   ]
  },
  {
   "cell_type": "code",
   "execution_count": 35,
   "metadata": {
    "collapsed": true
   },
   "outputs": [],
   "source": [
    "# 利用策略產生的持有部位資訊，計算底下四個指標來判斷投資績效\n",
    "# sharpe ratio: 判斷報酬的好壞跟穩定度，數值越大越好\n",
    "# maxdd: maximum drawdown, 最糟糕的狀況會賠幾 %\n",
    "# maxddd: maximum drawdown duration, 低於上一次最高報酬的天數\n",
    "# cumRet[-1]: 最後賺的 % 數\n",
    "\n",
    "def indicators(df):\n",
    "    dailyRet = df['Close'].pct_change()\n",
    "    if np.all(df['positions']==0):\n",
    "        return 0.0, 0.0, 0.0, 0.0\n",
    "    excessRet = (dailyRet - 0.04/252)[df['positions'] == 1]\n",
    "    SharpeRatio = np.sqrt(252.0)*np.mean(excessRet)/np.std(excessRet)\n",
    "    \n",
    "    cumRet = np.cumprod(1+excessRet)\n",
    "    \n",
    "    maxdd, maxddd = DrawDownAnalysis(cumRet)\n",
    "    \n",
    "    return SharpeRatio, maxdd, maxddd, cumRet[-1]"
   ]
  },
  {
   "cell_type": "code",
   "execution_count": 17,
   "metadata": {
    "collapsed": true
   },
   "outputs": [],
   "source": [
    "# 這是我們的策略的部分\n",
    "# 主要只是要算出進出的訊號 signals 跟何時持有部位 positions\n",
    "# 底下是一個突破系統的範例\n",
    "\n",
    "def breakout(df):\n",
    "    # Donchian Channel\n",
    "    df['20d_high'] = np.round(pd.Series.rolling(df['Close'], window=20).max(), 2)\n",
    "    df['10d_low'] = np.round(pd.Series.rolling(df['Close'], window=10).min(), 2)\n",
    "\n",
    "    has_position = False\n",
    "    df['signals'] = np.zeros(df['Close'].shape)\n",
    "    for t in range(2, df['signals'].size):\n",
    "        if df['Close'][t] > df['20d_high'][t-1]:\n",
    "            if not has_position:\n",
    "                df.loc[df.index[t], 'signals'] = 1\n",
    "                has_position = True\n",
    "        elif df['Close'][t] < df['10d_low'][t-1]:\n",
    "            if has_position:\n",
    "                df.loc[df.index[t], 'signals'] = -1\n",
    "                has_position = False\n",
    "\n",
    "    df['positions'] = df['signals'].cumsum()\n",
    "    return df"
   ]
  },
  {
   "cell_type": "code",
   "execution_count": 18,
   "metadata": {
    "collapsed": true
   },
   "outputs": [],
   "source": [
    "def RSI_8020(df):\n",
    "    df['RSI'] = talib.RSI(df['Close'].values)\n",
    "    \n",
    "    has_position = False\n",
    "    df['signals'] = np.zeros(np.size(df['Close']))\n",
    "    for t in range(2, df['signals'].size):\n",
    "        if df['RSI'][t-1] < 20:\n",
    "            if not has_position:\n",
    "                df.loc[df.index[t], 'signals'] = 1\n",
    "                has_position = True\n",
    "        elif df['RSI'][t-1] > 80:\n",
    "            if has_position:\n",
    "                df.loc[df.index[t], 'signals'] = -1\n",
    "                has_position = False\n",
    "\n",
    "    df['positions'] = df['signals'].cumsum()\n",
    "\n",
    "    return df"
   ]
  },
  {
   "cell_type": "code",
   "execution_count": 19,
   "metadata": {
    "collapsed": true
   },
   "outputs": [],
   "source": [
    "def RSI_7030(df):\n",
    "    df['RSI'] = talib.RSI(df['Close'].values)\n",
    "    \n",
    "    has_position = False\n",
    "    df['signals'] = np.zeros(np.size(df['Close']))\n",
    "    for t in range(2, df['signals'].size):\n",
    "        if df['RSI'][t-1] < 30:\n",
    "            if not has_position:\n",
    "                df.loc[df.index[t], 'signals'] = 1\n",
    "                has_position = True\n",
    "        elif df['RSI'][t-1] > 70:\n",
    "            if has_position:\n",
    "                df.loc[df.index[t], 'signals'] = -1\n",
    "                has_position = False\n",
    "\n",
    "    df['positions'] = df['signals'].cumsum()\n",
    "    return df"
   ]
  },
  {
   "cell_type": "code",
   "execution_count": 20,
   "metadata": {
    "collapsed": true
   },
   "outputs": [],
   "source": [
    "def apply_strategy(strategy, df):\n",
    "    return strategy(df)"
   ]
  },
  {
   "cell_type": "code",
   "execution_count": 21,
   "metadata": {},
   "outputs": [
    {
     "name": "stdout",
     "output_type": "stream",
     "text": [
      "Error accessing symbol:  SRCE ==> ('Unable to read URL: https://query1.finance.yahoo.com/v7/finance/download/SRCE?period1=1451577600&period2=1512230399&interval=1d&events=history&crumb=L1TZ34CK%5Cu002FZc',)\n",
      "Error accessing symbol:  YHOO ==> ('Unable to read URL: https://query1.finance.yahoo.com/v7/finance/download/YHOO?period1=1451577600&period2=1512230399&interval=1d&events=history&crumb=woXyFXgul18',)\n",
      "Error accessing symbol:  JOBS ==> ('Unable to read URL: https://query1.finance.yahoo.com/v7/finance/download/JOBS?period1=1451577600&period2=1512230399&interval=1d&events=history&crumb=6bhGExi3jb%5Cu002F',)\n"
     ]
    }
   ],
   "source": [
    "# 先把所有股票資料抓下來，放到字典上面去\n",
    "# 因為我們在這裡沒有使用資料庫，所以用字典來做存放\n",
    "all_data = {}\n",
    "\n",
    "for symbol in candidates:\n",
    "    try:\n",
    "        all_data[symbol] = web.DataReader(symbol, 'yahoo', datetime(2016,1,1))\n",
    "    except Exception as e:\n",
    "        all_data[symbol] = pd.DataFrame()\n",
    "        print(\"Error accessing symbol: \", symbol, \"==>\", e.args)"
   ]
  },
  {
   "cell_type": "code",
   "execution_count": 23,
   "metadata": {
    "collapsed": true
   },
   "outputs": [],
   "source": [
    "import talib"
   ]
  },
  {
   "cell_type": "code",
   "execution_count": 25,
   "metadata": {},
   "outputs": [
    {
     "data": {
      "text/plain": [
       "[(2.6417396805507143, -0.089302619785146087, 102, 1.4330050968937249, 'CAFD'),\n",
       " (2.7432716475936747, -0.074378594911961748, 118, 1.4525720402497386, 'GOOG'),\n",
       " (4.0853683871960884, -0.041393948519331425, 59, 2.2528791875638259, 'AAPL'),\n",
       " (3.4154063434378514, -0.041053355557252424, 70, 1.6871203416763842, 'MSFT'),\n",
       " (2.2845054416061092, -0.10355155203187105, 158, 1.6088144873029671, 'PIH'),\n",
       " (4.5181382107717711, -0.088670347018806717, 77, 2.8811512035541433, 'TSLA'),\n",
       " (2.8362235577624091, -0.065837620029339128, 254, 1.6561195902576635, 'FCCY')]"
      ]
     },
     "execution_count": 25,
     "metadata": {},
     "output_type": "execute_result"
    }
   ],
   "source": [
    "# 計算各支股票的回測結果\n",
    "results = []\n",
    "\n",
    "for symbol in candidates:\n",
    "    if all_data[symbol].empty:\n",
    "        continue\n",
    "    apply_strategy(breakout, all_data[symbol])\n",
    "    SharpeRatio, maxdd, maxddd, finalRet = indicators(all_data[symbol])\n",
    "    results.append((SharpeRatio, maxdd, maxddd, finalRet, symbol))\n",
    "\n",
    "results"
   ]
  },
  {
   "cell_type": "code",
   "execution_count": 36,
   "metadata": {},
   "outputs": [
    {
     "data": {
      "text/plain": [
       "[(2.6417396805507143,\n",
       "  -0.089302619785146087,\n",
       "  102,\n",
       "  1.4330050968937249,\n",
       "  'CAFD',\n",
       "  'breakout'),\n",
       " (0.39655599512014778,\n",
       "  -0.21701704255802612,\n",
       "  148,\n",
       "  1.0294188438405492,\n",
       "  'CAFD',\n",
       "  'RSI_7030'),\n",
       " (0.66871222730868229,\n",
       "  -0.20097259641798138,\n",
       "  150,\n",
       "  1.1449210372842593,\n",
       "  'CAFD',\n",
       "  'RSI_8020'),\n",
       " (2.7432716475936747,\n",
       "  -0.074378594911961748,\n",
       "  118,\n",
       "  1.4525720402497386,\n",
       "  'GOOG',\n",
       "  'breakout'),\n",
       " (10.805005633339752,\n",
       "  -0.0062513344778371005,\n",
       "  3,\n",
       "  1.1462679986680928,\n",
       "  'GOOG',\n",
       "  'RSI_7030'),\n",
       " (0.0, 0.0, 0.0, 0.0, 'GOOG', 'RSI_8020'),\n",
       " (4.0853683871960884,\n",
       "  -0.041393948519331425,\n",
       "  59,\n",
       "  2.2528791875638259,\n",
       "  'AAPL',\n",
       "  'breakout'),\n",
       " (1.8550716451444915,\n",
       "  -0.086421685311413254,\n",
       "  61,\n",
       "  1.1649344832998494,\n",
       "  'AAPL',\n",
       "  'RSI_7030'),\n",
       " (0.0, 0.0, 0.0, 0.0, 'AAPL', 'RSI_8020'),\n",
       " (3.4154063434378514,\n",
       "  -0.041053355557252424,\n",
       "  70,\n",
       "  1.6871203416763842,\n",
       "  'MSFT',\n",
       "  'breakout'),\n",
       " (2.0764905207064683,\n",
       "  -0.088991685137862375,\n",
       "  42,\n",
       "  1.1103673589094081,\n",
       "  'MSFT',\n",
       "  'RSI_7030'),\n",
       " (0.0, 0.0, 0.0, 0.0, 'MSFT', 'RSI_8020'),\n",
       " (2.2845054416061092,\n",
       "  -0.10355155203187105,\n",
       "  158,\n",
       "  1.6088144873029671,\n",
       "  'PIH',\n",
       "  'breakout'),\n",
       " (-0.13853867806368358,\n",
       "  -0.22880155834310656,\n",
       "  566,\n",
       "  0.93321121029448739,\n",
       "  'PIH',\n",
       "  'RSI_7030'),\n",
       " (0.73216912709501236,\n",
       "  -0.19656089760752038,\n",
       "  121,\n",
       "  1.1462259445012304,\n",
       "  'PIH',\n",
       "  'RSI_8020'),\n",
       " (4.5181382107717711,\n",
       "  -0.088670347018806717,\n",
       "  77,\n",
       "  2.8811512035541433,\n",
       "  'TSLA',\n",
       "  'breakout'),\n",
       " (0.53485713578605465,\n",
       "  -0.27133657894391106,\n",
       "  540,\n",
       "  1.1165424384477058,\n",
       "  'TSLA',\n",
       "  'RSI_7030'),\n",
       " (0.62943865441798807,\n",
       "  -0.33432796603901604,\n",
       "  291,\n",
       "  1.1807651614207766,\n",
       "  'TSLA',\n",
       "  'RSI_8020'),\n",
       " (2.8362235577624091,\n",
       "  -0.065837620029339128,\n",
       "  254,\n",
       "  1.6561195902576635,\n",
       "  'FCCY',\n",
       "  'breakout'),\n",
       " (1.0674133428121189,\n",
       "  -0.1073562849249956,\n",
       "  149,\n",
       "  1.2210062338949406,\n",
       "  'FCCY',\n",
       "  'RSI_7030'),\n",
       " (0.0, 0.0, 0.0, 0.0, 'FCCY', 'RSI_8020')]"
      ]
     },
     "execution_count": 36,
     "metadata": {},
     "output_type": "execute_result"
    }
   ],
   "source": [
    "# 計算各支股票的回測結果\n",
    "results = []\n",
    "\n",
    "strategies = [breakout, RSI_7030, RSI_8020]\n",
    "\n",
    "for symbol in candidates:\n",
    "    if all_data[symbol].empty:\n",
    "            continue\n",
    "    for strategy in strategies:\n",
    "        apply_strategy(strategy, all_data[symbol])\n",
    "        SharpeRatio, maxdd, maxddd, finalRet = indicators(all_data[symbol])\n",
    "        results.append((SharpeRatio, maxdd, maxddd, finalRet, symbol, strategy.__name__))\n",
    "\n",
    "results"
   ]
  },
  {
   "cell_type": "code",
   "execution_count": 26,
   "metadata": {},
   "outputs": [
    {
     "data": {
      "text/plain": [
       "[(4.5181382107717711, -0.088670347018806717, 77, 2.8811512035541433, 'TSLA'),\n",
       " (4.0853683871960884, -0.041393948519331425, 59, 2.2528791875638259, 'AAPL'),\n",
       " (3.4154063434378514, -0.041053355557252424, 70, 1.6871203416763842, 'MSFT'),\n",
       " (2.8362235577624091, -0.065837620029339128, 254, 1.6561195902576635, 'FCCY'),\n",
       " (2.7432716475936747, -0.074378594911961748, 118, 1.4525720402497386, 'GOOG'),\n",
       " (2.6417396805507143, -0.089302619785146087, 102, 1.4330050968937249, 'CAFD'),\n",
       " (2.2845054416061092, -0.10355155203187105, 158, 1.6088144873029671, 'PIH')]"
      ]
     },
     "execution_count": 26,
     "metadata": {},
     "output_type": "execute_result"
    }
   ],
   "source": [
    "# 排序股票，取 Sharpe Ratio 高的前幾名當標的\n",
    "sorted(results, reverse=True)"
   ]
  },
  {
   "cell_type": "code",
   "execution_count": 37,
   "metadata": {
    "collapsed": true
   },
   "outputs": [],
   "source": [
    "results_df = pd.DataFrame(results, columns=['sharpe','MaxDrawDown','MaxDrawDownDuration','returns','symbol','strategy'])"
   ]
  },
  {
   "cell_type": "code",
   "execution_count": 38,
   "metadata": {},
   "outputs": [
    {
     "data": {
      "text/html": [
       "<div>\n",
       "<style>\n",
       "    .dataframe thead tr:only-child th {\n",
       "        text-align: right;\n",
       "    }\n",
       "\n",
       "    .dataframe thead th {\n",
       "        text-align: left;\n",
       "    }\n",
       "\n",
       "    .dataframe tbody tr th {\n",
       "        vertical-align: top;\n",
       "    }\n",
       "</style>\n",
       "<table border=\"1\" class=\"dataframe\">\n",
       "  <thead>\n",
       "    <tr style=\"text-align: right;\">\n",
       "      <th></th>\n",
       "      <th>sharpe</th>\n",
       "      <th>MaxDrawDown</th>\n",
       "      <th>MaxDrawDownDuration</th>\n",
       "      <th>returns</th>\n",
       "      <th>symbol</th>\n",
       "      <th>strategy</th>\n",
       "    </tr>\n",
       "  </thead>\n",
       "  <tbody>\n",
       "    <tr>\n",
       "      <th>0</th>\n",
       "      <td>2.641740</td>\n",
       "      <td>-0.089303</td>\n",
       "      <td>102.0</td>\n",
       "      <td>1.433005</td>\n",
       "      <td>CAFD</td>\n",
       "      <td>breakout</td>\n",
       "    </tr>\n",
       "    <tr>\n",
       "      <th>1</th>\n",
       "      <td>0.396556</td>\n",
       "      <td>-0.217017</td>\n",
       "      <td>148.0</td>\n",
       "      <td>1.029419</td>\n",
       "      <td>CAFD</td>\n",
       "      <td>RSI_7030</td>\n",
       "    </tr>\n",
       "    <tr>\n",
       "      <th>2</th>\n",
       "      <td>0.668712</td>\n",
       "      <td>-0.200973</td>\n",
       "      <td>150.0</td>\n",
       "      <td>1.144921</td>\n",
       "      <td>CAFD</td>\n",
       "      <td>RSI_8020</td>\n",
       "    </tr>\n",
       "    <tr>\n",
       "      <th>3</th>\n",
       "      <td>2.743272</td>\n",
       "      <td>-0.074379</td>\n",
       "      <td>118.0</td>\n",
       "      <td>1.452572</td>\n",
       "      <td>GOOG</td>\n",
       "      <td>breakout</td>\n",
       "    </tr>\n",
       "    <tr>\n",
       "      <th>4</th>\n",
       "      <td>10.805006</td>\n",
       "      <td>-0.006251</td>\n",
       "      <td>3.0</td>\n",
       "      <td>1.146268</td>\n",
       "      <td>GOOG</td>\n",
       "      <td>RSI_7030</td>\n",
       "    </tr>\n",
       "    <tr>\n",
       "      <th>5</th>\n",
       "      <td>0.000000</td>\n",
       "      <td>0.000000</td>\n",
       "      <td>0.0</td>\n",
       "      <td>0.000000</td>\n",
       "      <td>GOOG</td>\n",
       "      <td>RSI_8020</td>\n",
       "    </tr>\n",
       "    <tr>\n",
       "      <th>6</th>\n",
       "      <td>4.085368</td>\n",
       "      <td>-0.041394</td>\n",
       "      <td>59.0</td>\n",
       "      <td>2.252879</td>\n",
       "      <td>AAPL</td>\n",
       "      <td>breakout</td>\n",
       "    </tr>\n",
       "    <tr>\n",
       "      <th>7</th>\n",
       "      <td>1.855072</td>\n",
       "      <td>-0.086422</td>\n",
       "      <td>61.0</td>\n",
       "      <td>1.164934</td>\n",
       "      <td>AAPL</td>\n",
       "      <td>RSI_7030</td>\n",
       "    </tr>\n",
       "    <tr>\n",
       "      <th>8</th>\n",
       "      <td>0.000000</td>\n",
       "      <td>0.000000</td>\n",
       "      <td>0.0</td>\n",
       "      <td>0.000000</td>\n",
       "      <td>AAPL</td>\n",
       "      <td>RSI_8020</td>\n",
       "    </tr>\n",
       "    <tr>\n",
       "      <th>9</th>\n",
       "      <td>3.415406</td>\n",
       "      <td>-0.041053</td>\n",
       "      <td>70.0</td>\n",
       "      <td>1.687120</td>\n",
       "      <td>MSFT</td>\n",
       "      <td>breakout</td>\n",
       "    </tr>\n",
       "    <tr>\n",
       "      <th>10</th>\n",
       "      <td>2.076491</td>\n",
       "      <td>-0.088992</td>\n",
       "      <td>42.0</td>\n",
       "      <td>1.110367</td>\n",
       "      <td>MSFT</td>\n",
       "      <td>RSI_7030</td>\n",
       "    </tr>\n",
       "    <tr>\n",
       "      <th>11</th>\n",
       "      <td>0.000000</td>\n",
       "      <td>0.000000</td>\n",
       "      <td>0.0</td>\n",
       "      <td>0.000000</td>\n",
       "      <td>MSFT</td>\n",
       "      <td>RSI_8020</td>\n",
       "    </tr>\n",
       "    <tr>\n",
       "      <th>12</th>\n",
       "      <td>2.284505</td>\n",
       "      <td>-0.103552</td>\n",
       "      <td>158.0</td>\n",
       "      <td>1.608814</td>\n",
       "      <td>PIH</td>\n",
       "      <td>breakout</td>\n",
       "    </tr>\n",
       "    <tr>\n",
       "      <th>13</th>\n",
       "      <td>-0.138539</td>\n",
       "      <td>-0.228802</td>\n",
       "      <td>566.0</td>\n",
       "      <td>0.933211</td>\n",
       "      <td>PIH</td>\n",
       "      <td>RSI_7030</td>\n",
       "    </tr>\n",
       "    <tr>\n",
       "      <th>14</th>\n",
       "      <td>0.732169</td>\n",
       "      <td>-0.196561</td>\n",
       "      <td>121.0</td>\n",
       "      <td>1.146226</td>\n",
       "      <td>PIH</td>\n",
       "      <td>RSI_8020</td>\n",
       "    </tr>\n",
       "    <tr>\n",
       "      <th>15</th>\n",
       "      <td>4.518138</td>\n",
       "      <td>-0.088670</td>\n",
       "      <td>77.0</td>\n",
       "      <td>2.881151</td>\n",
       "      <td>TSLA</td>\n",
       "      <td>breakout</td>\n",
       "    </tr>\n",
       "    <tr>\n",
       "      <th>16</th>\n",
       "      <td>0.534857</td>\n",
       "      <td>-0.271337</td>\n",
       "      <td>540.0</td>\n",
       "      <td>1.116542</td>\n",
       "      <td>TSLA</td>\n",
       "      <td>RSI_7030</td>\n",
       "    </tr>\n",
       "    <tr>\n",
       "      <th>17</th>\n",
       "      <td>0.629439</td>\n",
       "      <td>-0.334328</td>\n",
       "      <td>291.0</td>\n",
       "      <td>1.180765</td>\n",
       "      <td>TSLA</td>\n",
       "      <td>RSI_8020</td>\n",
       "    </tr>\n",
       "    <tr>\n",
       "      <th>18</th>\n",
       "      <td>2.836224</td>\n",
       "      <td>-0.065838</td>\n",
       "      <td>254.0</td>\n",
       "      <td>1.656120</td>\n",
       "      <td>FCCY</td>\n",
       "      <td>breakout</td>\n",
       "    </tr>\n",
       "    <tr>\n",
       "      <th>19</th>\n",
       "      <td>1.067413</td>\n",
       "      <td>-0.107356</td>\n",
       "      <td>149.0</td>\n",
       "      <td>1.221006</td>\n",
       "      <td>FCCY</td>\n",
       "      <td>RSI_7030</td>\n",
       "    </tr>\n",
       "    <tr>\n",
       "      <th>20</th>\n",
       "      <td>0.000000</td>\n",
       "      <td>0.000000</td>\n",
       "      <td>0.0</td>\n",
       "      <td>0.000000</td>\n",
       "      <td>FCCY</td>\n",
       "      <td>RSI_8020</td>\n",
       "    </tr>\n",
       "  </tbody>\n",
       "</table>\n",
       "</div>"
      ],
      "text/plain": [
       "       sharpe  MaxDrawDown  MaxDrawDownDuration   returns symbol  strategy\n",
       "0    2.641740    -0.089303                102.0  1.433005   CAFD  breakout\n",
       "1    0.396556    -0.217017                148.0  1.029419   CAFD  RSI_7030\n",
       "2    0.668712    -0.200973                150.0  1.144921   CAFD  RSI_8020\n",
       "3    2.743272    -0.074379                118.0  1.452572   GOOG  breakout\n",
       "4   10.805006    -0.006251                  3.0  1.146268   GOOG  RSI_7030\n",
       "5    0.000000     0.000000                  0.0  0.000000   GOOG  RSI_8020\n",
       "6    4.085368    -0.041394                 59.0  2.252879   AAPL  breakout\n",
       "7    1.855072    -0.086422                 61.0  1.164934   AAPL  RSI_7030\n",
       "8    0.000000     0.000000                  0.0  0.000000   AAPL  RSI_8020\n",
       "9    3.415406    -0.041053                 70.0  1.687120   MSFT  breakout\n",
       "10   2.076491    -0.088992                 42.0  1.110367   MSFT  RSI_7030\n",
       "11   0.000000     0.000000                  0.0  0.000000   MSFT  RSI_8020\n",
       "12   2.284505    -0.103552                158.0  1.608814    PIH  breakout\n",
       "13  -0.138539    -0.228802                566.0  0.933211    PIH  RSI_7030\n",
       "14   0.732169    -0.196561                121.0  1.146226    PIH  RSI_8020\n",
       "15   4.518138    -0.088670                 77.0  2.881151   TSLA  breakout\n",
       "16   0.534857    -0.271337                540.0  1.116542   TSLA  RSI_7030\n",
       "17   0.629439    -0.334328                291.0  1.180765   TSLA  RSI_8020\n",
       "18   2.836224    -0.065838                254.0  1.656120   FCCY  breakout\n",
       "19   1.067413    -0.107356                149.0  1.221006   FCCY  RSI_7030\n",
       "20   0.000000     0.000000                  0.0  0.000000   FCCY  RSI_8020"
      ]
     },
     "execution_count": 38,
     "metadata": {},
     "output_type": "execute_result"
    }
   ],
   "source": [
    "results_df"
   ]
  },
  {
   "cell_type": "code",
   "execution_count": 39,
   "metadata": {},
   "outputs": [
    {
     "data": {
      "text/html": [
       "<div>\n",
       "<style>\n",
       "    .dataframe thead tr:only-child th {\n",
       "        text-align: right;\n",
       "    }\n",
       "\n",
       "    .dataframe thead th {\n",
       "        text-align: left;\n",
       "    }\n",
       "\n",
       "    .dataframe tbody tr th {\n",
       "        vertical-align: top;\n",
       "    }\n",
       "</style>\n",
       "<table border=\"1\" class=\"dataframe\">\n",
       "  <thead>\n",
       "    <tr style=\"text-align: right;\">\n",
       "      <th></th>\n",
       "      <th>sharpe</th>\n",
       "      <th>MaxDrawDown</th>\n",
       "      <th>MaxDrawDownDuration</th>\n",
       "      <th>returns</th>\n",
       "      <th>symbol</th>\n",
       "      <th>strategy</th>\n",
       "    </tr>\n",
       "  </thead>\n",
       "  <tbody>\n",
       "    <tr>\n",
       "      <th>20</th>\n",
       "      <td>0.000000</td>\n",
       "      <td>0.000000</td>\n",
       "      <td>0.0</td>\n",
       "      <td>0.000000</td>\n",
       "      <td>FCCY</td>\n",
       "      <td>RSI_8020</td>\n",
       "    </tr>\n",
       "    <tr>\n",
       "      <th>11</th>\n",
       "      <td>0.000000</td>\n",
       "      <td>0.000000</td>\n",
       "      <td>0.0</td>\n",
       "      <td>0.000000</td>\n",
       "      <td>MSFT</td>\n",
       "      <td>RSI_8020</td>\n",
       "    </tr>\n",
       "    <tr>\n",
       "      <th>5</th>\n",
       "      <td>0.000000</td>\n",
       "      <td>0.000000</td>\n",
       "      <td>0.0</td>\n",
       "      <td>0.000000</td>\n",
       "      <td>GOOG</td>\n",
       "      <td>RSI_8020</td>\n",
       "    </tr>\n",
       "    <tr>\n",
       "      <th>8</th>\n",
       "      <td>0.000000</td>\n",
       "      <td>0.000000</td>\n",
       "      <td>0.0</td>\n",
       "      <td>0.000000</td>\n",
       "      <td>AAPL</td>\n",
       "      <td>RSI_8020</td>\n",
       "    </tr>\n",
       "    <tr>\n",
       "      <th>4</th>\n",
       "      <td>10.805006</td>\n",
       "      <td>-0.006251</td>\n",
       "      <td>3.0</td>\n",
       "      <td>1.146268</td>\n",
       "      <td>GOOG</td>\n",
       "      <td>RSI_7030</td>\n",
       "    </tr>\n",
       "    <tr>\n",
       "      <th>9</th>\n",
       "      <td>3.415406</td>\n",
       "      <td>-0.041053</td>\n",
       "      <td>70.0</td>\n",
       "      <td>1.687120</td>\n",
       "      <td>MSFT</td>\n",
       "      <td>breakout</td>\n",
       "    </tr>\n",
       "    <tr>\n",
       "      <th>6</th>\n",
       "      <td>4.085368</td>\n",
       "      <td>-0.041394</td>\n",
       "      <td>59.0</td>\n",
       "      <td>2.252879</td>\n",
       "      <td>AAPL</td>\n",
       "      <td>breakout</td>\n",
       "    </tr>\n",
       "    <tr>\n",
       "      <th>18</th>\n",
       "      <td>2.836224</td>\n",
       "      <td>-0.065838</td>\n",
       "      <td>254.0</td>\n",
       "      <td>1.656120</td>\n",
       "      <td>FCCY</td>\n",
       "      <td>breakout</td>\n",
       "    </tr>\n",
       "    <tr>\n",
       "      <th>3</th>\n",
       "      <td>2.743272</td>\n",
       "      <td>-0.074379</td>\n",
       "      <td>118.0</td>\n",
       "      <td>1.452572</td>\n",
       "      <td>GOOG</td>\n",
       "      <td>breakout</td>\n",
       "    </tr>\n",
       "    <tr>\n",
       "      <th>7</th>\n",
       "      <td>1.855072</td>\n",
       "      <td>-0.086422</td>\n",
       "      <td>61.0</td>\n",
       "      <td>1.164934</td>\n",
       "      <td>AAPL</td>\n",
       "      <td>RSI_7030</td>\n",
       "    </tr>\n",
       "    <tr>\n",
       "      <th>15</th>\n",
       "      <td>4.518138</td>\n",
       "      <td>-0.088670</td>\n",
       "      <td>77.0</td>\n",
       "      <td>2.881151</td>\n",
       "      <td>TSLA</td>\n",
       "      <td>breakout</td>\n",
       "    </tr>\n",
       "    <tr>\n",
       "      <th>10</th>\n",
       "      <td>2.076491</td>\n",
       "      <td>-0.088992</td>\n",
       "      <td>42.0</td>\n",
       "      <td>1.110367</td>\n",
       "      <td>MSFT</td>\n",
       "      <td>RSI_7030</td>\n",
       "    </tr>\n",
       "    <tr>\n",
       "      <th>0</th>\n",
       "      <td>2.641740</td>\n",
       "      <td>-0.089303</td>\n",
       "      <td>102.0</td>\n",
       "      <td>1.433005</td>\n",
       "      <td>CAFD</td>\n",
       "      <td>breakout</td>\n",
       "    </tr>\n",
       "    <tr>\n",
       "      <th>12</th>\n",
       "      <td>2.284505</td>\n",
       "      <td>-0.103552</td>\n",
       "      <td>158.0</td>\n",
       "      <td>1.608814</td>\n",
       "      <td>PIH</td>\n",
       "      <td>breakout</td>\n",
       "    </tr>\n",
       "    <tr>\n",
       "      <th>19</th>\n",
       "      <td>1.067413</td>\n",
       "      <td>-0.107356</td>\n",
       "      <td>149.0</td>\n",
       "      <td>1.221006</td>\n",
       "      <td>FCCY</td>\n",
       "      <td>RSI_7030</td>\n",
       "    </tr>\n",
       "    <tr>\n",
       "      <th>14</th>\n",
       "      <td>0.732169</td>\n",
       "      <td>-0.196561</td>\n",
       "      <td>121.0</td>\n",
       "      <td>1.146226</td>\n",
       "      <td>PIH</td>\n",
       "      <td>RSI_8020</td>\n",
       "    </tr>\n",
       "    <tr>\n",
       "      <th>2</th>\n",
       "      <td>0.668712</td>\n",
       "      <td>-0.200973</td>\n",
       "      <td>150.0</td>\n",
       "      <td>1.144921</td>\n",
       "      <td>CAFD</td>\n",
       "      <td>RSI_8020</td>\n",
       "    </tr>\n",
       "    <tr>\n",
       "      <th>1</th>\n",
       "      <td>0.396556</td>\n",
       "      <td>-0.217017</td>\n",
       "      <td>148.0</td>\n",
       "      <td>1.029419</td>\n",
       "      <td>CAFD</td>\n",
       "      <td>RSI_7030</td>\n",
       "    </tr>\n",
       "    <tr>\n",
       "      <th>13</th>\n",
       "      <td>-0.138539</td>\n",
       "      <td>-0.228802</td>\n",
       "      <td>566.0</td>\n",
       "      <td>0.933211</td>\n",
       "      <td>PIH</td>\n",
       "      <td>RSI_7030</td>\n",
       "    </tr>\n",
       "    <tr>\n",
       "      <th>16</th>\n",
       "      <td>0.534857</td>\n",
       "      <td>-0.271337</td>\n",
       "      <td>540.0</td>\n",
       "      <td>1.116542</td>\n",
       "      <td>TSLA</td>\n",
       "      <td>RSI_7030</td>\n",
       "    </tr>\n",
       "    <tr>\n",
       "      <th>17</th>\n",
       "      <td>0.629439</td>\n",
       "      <td>-0.334328</td>\n",
       "      <td>291.0</td>\n",
       "      <td>1.180765</td>\n",
       "      <td>TSLA</td>\n",
       "      <td>RSI_8020</td>\n",
       "    </tr>\n",
       "  </tbody>\n",
       "</table>\n",
       "</div>"
      ],
      "text/plain": [
       "       sharpe  MaxDrawDown  MaxDrawDownDuration   returns symbol  strategy\n",
       "20   0.000000     0.000000                  0.0  0.000000   FCCY  RSI_8020\n",
       "11   0.000000     0.000000                  0.0  0.000000   MSFT  RSI_8020\n",
       "5    0.000000     0.000000                  0.0  0.000000   GOOG  RSI_8020\n",
       "8    0.000000     0.000000                  0.0  0.000000   AAPL  RSI_8020\n",
       "4   10.805006    -0.006251                  3.0  1.146268   GOOG  RSI_7030\n",
       "9    3.415406    -0.041053                 70.0  1.687120   MSFT  breakout\n",
       "6    4.085368    -0.041394                 59.0  2.252879   AAPL  breakout\n",
       "18   2.836224    -0.065838                254.0  1.656120   FCCY  breakout\n",
       "3    2.743272    -0.074379                118.0  1.452572   GOOG  breakout\n",
       "7    1.855072    -0.086422                 61.0  1.164934   AAPL  RSI_7030\n",
       "15   4.518138    -0.088670                 77.0  2.881151   TSLA  breakout\n",
       "10   2.076491    -0.088992                 42.0  1.110367   MSFT  RSI_7030\n",
       "0    2.641740    -0.089303                102.0  1.433005   CAFD  breakout\n",
       "12   2.284505    -0.103552                158.0  1.608814    PIH  breakout\n",
       "19   1.067413    -0.107356                149.0  1.221006   FCCY  RSI_7030\n",
       "14   0.732169    -0.196561                121.0  1.146226    PIH  RSI_8020\n",
       "2    0.668712    -0.200973                150.0  1.144921   CAFD  RSI_8020\n",
       "1    0.396556    -0.217017                148.0  1.029419   CAFD  RSI_7030\n",
       "13  -0.138539    -0.228802                566.0  0.933211    PIH  RSI_7030\n",
       "16   0.534857    -0.271337                540.0  1.116542   TSLA  RSI_7030\n",
       "17   0.629439    -0.334328                291.0  1.180765   TSLA  RSI_8020"
      ]
     },
     "execution_count": 39,
     "metadata": {},
     "output_type": "execute_result"
    }
   ],
   "source": [
    "results_df.sort_values('MaxDrawDown',ascending=False)"
   ]
  }
 ],
 "metadata": {
  "anaconda-cloud": {},
  "kernelspec": {
   "display_name": "Python 3",
   "language": "python",
   "name": "python3"
  },
  "language_info": {
   "codemirror_mode": {
    "name": "ipython",
    "version": 3
   },
   "file_extension": ".py",
   "mimetype": "text/x-python",
   "name": "python",
   "nbconvert_exporter": "python",
   "pygments_lexer": "ipython3",
   "version": "3.6.2"
  }
 },
 "nbformat": 4,
 "nbformat_minor": 1
}
